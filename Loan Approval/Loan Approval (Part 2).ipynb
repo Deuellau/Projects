{
 "cells": [
  {
   "cell_type": "markdown",
   "id": "f911431d",
   "metadata": {},
   "source": [
    "# **Loan Approval Project (Part 2)**\n",
    "## Table of Content\n",
    "1. Introduction\n",
    "2. Data Understanding\n",
    "3. Data Preparation\n",
    "4. Modeling & Evaluation"
   ]
  },
  {
   "cell_type": "markdown",
   "id": "fb72e483",
   "metadata": {},
   "source": [
    "# 3.0 Data Preparation"
   ]
  },
  {
   "cell_type": "markdown",
   "id": "b0a6281d",
   "metadata": {},
   "source": [
    "**Environment Setup**"
   ]
  },
  {
   "cell_type": "code",
   "execution_count": 1,
   "id": "7b74065e",
   "metadata": {},
   "outputs": [
    {
     "data": {
      "text/html": [
       "<div>\n",
       "<style scoped>\n",
       "    .dataframe tbody tr th:only-of-type {\n",
       "        vertical-align: middle;\n",
       "    }\n",
       "\n",
       "    .dataframe tbody tr th {\n",
       "        vertical-align: top;\n",
       "    }\n",
       "\n",
       "    .dataframe thead th {\n",
       "        text-align: right;\n",
       "    }\n",
       "</style>\n",
       "<table border=\"1\" class=\"dataframe\">\n",
       "  <thead>\n",
       "    <tr style=\"text-align: right;\">\n",
       "      <th></th>\n",
       "      <th>id</th>\n",
       "      <th>grade</th>\n",
       "      <th>annual_inc</th>\n",
       "      <th>short_emp</th>\n",
       "      <th>emp_length_num</th>\n",
       "      <th>home_ownership</th>\n",
       "      <th>dti</th>\n",
       "      <th>purpose</th>\n",
       "      <th>term</th>\n",
       "      <th>last_delinq_none</th>\n",
       "      <th>last_major_derog_none</th>\n",
       "      <th>revol_util</th>\n",
       "      <th>total_rec_late_fee</th>\n",
       "      <th>od_ratio</th>\n",
       "      <th>bad_loan</th>\n",
       "    </tr>\n",
       "  </thead>\n",
       "  <tbody>\n",
       "    <tr>\n",
       "      <th>0</th>\n",
       "      <td>11454641</td>\n",
       "      <td>A</td>\n",
       "      <td>100000.0</td>\n",
       "      <td>1</td>\n",
       "      <td>1</td>\n",
       "      <td>RENT</td>\n",
       "      <td>26.27</td>\n",
       "      <td>credit_card</td>\n",
       "      <td>36 months</td>\n",
       "      <td>1</td>\n",
       "      <td>NaN</td>\n",
       "      <td>43.2</td>\n",
       "      <td>0.0</td>\n",
       "      <td>0.160624</td>\n",
       "      <td>0</td>\n",
       "    </tr>\n",
       "    <tr>\n",
       "      <th>1</th>\n",
       "      <td>9604874</td>\n",
       "      <td>A</td>\n",
       "      <td>83000.0</td>\n",
       "      <td>0</td>\n",
       "      <td>4</td>\n",
       "      <td>OWN</td>\n",
       "      <td>5.39</td>\n",
       "      <td>credit_card</td>\n",
       "      <td>36 months</td>\n",
       "      <td>0</td>\n",
       "      <td>NaN</td>\n",
       "      <td>21.5</td>\n",
       "      <td>0.0</td>\n",
       "      <td>0.810777</td>\n",
       "      <td>0</td>\n",
       "    </tr>\n",
       "    <tr>\n",
       "      <th>2</th>\n",
       "      <td>9684700</td>\n",
       "      <td>D</td>\n",
       "      <td>78000.0</td>\n",
       "      <td>0</td>\n",
       "      <td>11</td>\n",
       "      <td>MORTGAGE</td>\n",
       "      <td>18.45</td>\n",
       "      <td>debt_consolidation</td>\n",
       "      <td>60 months</td>\n",
       "      <td>1</td>\n",
       "      <td>NaN</td>\n",
       "      <td>46.3</td>\n",
       "      <td>0.0</td>\n",
       "      <td>0.035147</td>\n",
       "      <td>1</td>\n",
       "    </tr>\n",
       "    <tr>\n",
       "      <th>3</th>\n",
       "      <td>9695736</td>\n",
       "      <td>D</td>\n",
       "      <td>37536.0</td>\n",
       "      <td>0</td>\n",
       "      <td>6</td>\n",
       "      <td>MORTGAGE</td>\n",
       "      <td>12.28</td>\n",
       "      <td>medical</td>\n",
       "      <td>60 months</td>\n",
       "      <td>0</td>\n",
       "      <td>NaN</td>\n",
       "      <td>10.7</td>\n",
       "      <td>0.0</td>\n",
       "      <td>0.534887</td>\n",
       "      <td>1</td>\n",
       "    </tr>\n",
       "    <tr>\n",
       "      <th>4</th>\n",
       "      <td>9795013</td>\n",
       "      <td>D</td>\n",
       "      <td>65000.0</td>\n",
       "      <td>0</td>\n",
       "      <td>11</td>\n",
       "      <td>MORTGAGE</td>\n",
       "      <td>11.26</td>\n",
       "      <td>debt_consolidation</td>\n",
       "      <td>36 months</td>\n",
       "      <td>0</td>\n",
       "      <td>NaN</td>\n",
       "      <td>15.2</td>\n",
       "      <td>0.0</td>\n",
       "      <td>0.166500</td>\n",
       "      <td>0</td>\n",
       "    </tr>\n",
       "  </tbody>\n",
       "</table>\n",
       "</div>"
      ],
      "text/plain": [
       "         id grade  annual_inc  short_emp  emp_length_num home_ownership  \\\n",
       "0  11454641     A    100000.0          1               1           RENT   \n",
       "1   9604874     A     83000.0          0               4            OWN   \n",
       "2   9684700     D     78000.0          0              11       MORTGAGE   \n",
       "3   9695736     D     37536.0          0               6       MORTGAGE   \n",
       "4   9795013     D     65000.0          0              11       MORTGAGE   \n",
       "\n",
       "     dti             purpose        term  last_delinq_none  \\\n",
       "0  26.27         credit_card   36 months                 1   \n",
       "1   5.39         credit_card   36 months                 0   \n",
       "2  18.45  debt_consolidation   60 months                 1   \n",
       "3  12.28             medical   60 months                 0   \n",
       "4  11.26  debt_consolidation   36 months                 0   \n",
       "\n",
       "   last_major_derog_none  revol_util  total_rec_late_fee  od_ratio  bad_loan  \n",
       "0                    NaN        43.2                 0.0  0.160624         0  \n",
       "1                    NaN        21.5                 0.0  0.810777         0  \n",
       "2                    NaN        46.3                 0.0  0.035147         1  \n",
       "3                    NaN        10.7                 0.0  0.534887         1  \n",
       "4                    NaN        15.2                 0.0  0.166500         0  "
      ]
     },
     "metadata": {},
     "output_type": "display_data"
    },
    {
     "name": "stdout",
     "output_type": "stream",
     "text": [
      "<class 'pandas.core.frame.DataFrame'>\n",
      "RangeIndex: 20000 entries, 0 to 19999\n",
      "Data columns (total 15 columns):\n",
      " #   Column                 Non-Null Count  Dtype  \n",
      "---  ------                 --------------  -----  \n",
      " 0   id                     20000 non-null  int64  \n",
      " 1   grade                  20000 non-null  object \n",
      " 2   annual_inc             20000 non-null  float64\n",
      " 3   short_emp              20000 non-null  int64  \n",
      " 4   emp_length_num         20000 non-null  int64  \n",
      " 5   home_ownership         18509 non-null  object \n",
      " 6   dti                    19846 non-null  float64\n",
      " 7   purpose                20000 non-null  object \n",
      " 8   term                   20000 non-null  object \n",
      " 9   last_delinq_none       20000 non-null  int64  \n",
      " 10  last_major_derog_none  574 non-null    float64\n",
      " 11  revol_util             20000 non-null  float64\n",
      " 12  total_rec_late_fee     20000 non-null  float64\n",
      " 13  od_ratio               20000 non-null  float64\n",
      " 14  bad_loan               20000 non-null  int64  \n",
      "dtypes: float64(6), int64(5), object(4)\n",
      "memory usage: 2.3+ MB\n"
     ]
    },
    {
     "data": {
      "text/plain": [
       "None"
      ]
     },
     "metadata": {},
     "output_type": "display_data"
    }
   ],
   "source": [
    "import pandas as pd\n",
    "import numpy as np\n",
    "import matplotlib.pyplot as plt\n",
    "import seaborn as sns\n",
    "%matplotlib inline\n",
    "\n",
    "from category_encoders import TargetEncoder\n",
    "from sklearn.preprocessing import StandardScaler\n",
    "from sklearn.model_selection import train_test_split, cross_validate, GridSearchCV\n",
    "\n",
    "from sklearn.linear_model import LogisticRegression\n",
    "from sklearn.svm import SVC\n",
    "from sklearn.neighbors import KNeighborsClassifier\n",
    "from sklearn.tree import DecisionTreeClassifier\n",
    "from sklearn.ensemble import RandomForestClassifier\n",
    "from sklearn.ensemble import GradientBoostingClassifier\n",
    "from xgboost import XGBClassifier\n",
    "\n",
    "from sklearn.metrics import classification_report, confusion_matrix, plot_confusion_matrix\n",
    "from sklearn.metrics import accuracy_score, f1_score, roc_auc_score, roc_curve\n",
    "from sklearn.metrics import precision_recall_curve, matthews_corrcoef\n",
    "\n",
    "df = pd.read_csv('lending_club_loan_dataset.csv')\n",
    "\n",
    "# Print dataframe head and info\n",
    "display(df.head())\n",
    "display(df.info())"
   ]
  },
  {
   "cell_type": "markdown",
   "id": "88f8cada",
   "metadata": {},
   "source": [
    "## 3.1 Data Selection"
   ]
  },
  {
   "cell_type": "markdown",
   "id": "8be48aae",
   "metadata": {},
   "source": [
    "### 3.1.1 ID"
   ]
  },
  {
   "cell_type": "markdown",
   "id": "5d4be0d9",
   "metadata": {},
   "source": [
    "ID contains unique values for each individual. Since it is redundant as there is no relation to the target variable, we will drop this feature."
   ]
  },
  {
   "cell_type": "code",
   "execution_count": 2,
   "id": "09d633ec",
   "metadata": {},
   "outputs": [],
   "source": [
    "# Remove 'id' feature\n",
    "df.drop('id', axis=1, inplace=True)"
   ]
  },
  {
   "cell_type": "markdown",
   "id": "b6e66870",
   "metadata": {},
   "source": [
    "### 3.1.2 Bad Rating"
   ]
  },
  {
   "cell_type": "markdown",
   "id": "e0a49b65",
   "metadata": {},
   "source": [
    "Bad Rating has too many missing values, hence it is hard to fill these missing values through any means."
   ]
  },
  {
   "cell_type": "code",
   "execution_count": 3,
   "id": "0298e9a0",
   "metadata": {},
   "outputs": [],
   "source": [
    "# Remove 'last_major_derog_none' feature\n",
    "df.drop('last_major_derog_none', axis=1, inplace=True)"
   ]
  },
  {
   "cell_type": "markdown",
   "id": "0d5f625a",
   "metadata": {},
   "source": [
    "## 3.2 Data Cleaning"
   ]
  },
  {
   "cell_type": "markdown",
   "id": "1e119b84",
   "metadata": {},
   "source": [
    "### 3.2.1 Debt-to-Income Ratio"
   ]
  },
  {
   "cell_type": "markdown",
   "id": "ec2e68fe",
   "metadata": {},
   "source": [
    "DTI feature contains a small portion of missing values. We will fill the ratio based on the mean DTI of their annual income quartile. This is found by finding the quartile values of annual income, grouping DTI values into the quartile ranges, and finding the mean DTI of each range."
   ]
  },
  {
   "cell_type": "code",
   "execution_count": 4,
   "id": "36d66dba",
   "metadata": {},
   "outputs": [
    {
     "data": {
      "text/plain": [
       "count      20000.000000\n",
       "mean       73349.578350\n",
       "std        45198.567255\n",
       "min         8412.000000\n",
       "25%        47000.000000\n",
       "50%        65000.000000\n",
       "75%        88000.000000\n",
       "max      1000000.000000\n",
       "Name: annual_inc, dtype: float64"
      ]
     },
     "execution_count": 4,
     "metadata": {},
     "output_type": "execute_result"
    }
   ],
   "source": [
    "# Find quartiles of 'annual_inc'\n",
    "df['annual_inc'].describe()"
   ]
  },
  {
   "cell_type": "code",
   "execution_count": 5,
   "id": "eaea033d",
   "metadata": {},
   "outputs": [
    {
     "data": {
      "text/plain": [
       "annual_inc_bin\n",
       "0-25      18.352857\n",
       "25-50     17.537817\n",
       "50-75     16.423471\n",
       "75-100    13.893125\n",
       "Name: dti, dtype: float64"
      ]
     },
     "execution_count": 5,
     "metadata": {},
     "output_type": "execute_result"
    }
   ],
   "source": [
    "# Bin 'dti' by 'annual_inc' quartiles\n",
    "df['annual_inc_bin'] = np.where(df['annual_inc'] <= 47000, '0-25', np.where(\n",
    "                                df['annual_inc'] <= 65000, '25-50', np.where(\n",
    "                                df['annual_inc'] <= 88000, '50-75', '75-100')))\n",
    "df.groupby('annual_inc_bin')['dti'].mean()"
   ]
  },
  {
   "cell_type": "code",
   "execution_count": 6,
   "id": "ad5868d5",
   "metadata": {},
   "outputs": [],
   "source": [
    "# Fill missing 'dti' values with average DTI values for their income quartile\n",
    "df['dti'] = np.where((df['annual_inc_bin'] == '0-25') & (df['dti'].isnull()), 18.35, df['dti'])\n",
    "df['dti'] = np.where((df['annual_inc_bin'] == '25-50') & (df['dti'].isnull()), 17.54, df['dti'])\n",
    "df['dti'] = np.where((df['annual_inc_bin'] == '50-75') & (df['dti'].isnull()), 16.42, df['dti'])\n",
    "df['dti'] = np.where((df['annual_inc_bin'] == '75-100') & (df['dti'].isnull()), 13.89, df['dti'])"
   ]
  },
  {
   "cell_type": "markdown",
   "id": "0b0976e4",
   "metadata": {},
   "source": [
    "### 3.2.2 Home Ownership"
   ]
  },
  {
   "cell_type": "markdown",
   "id": "8dc160d3",
   "metadata": {},
   "source": [
    "Home Ownership also contains a handful of missing values. Using our newly created 'annual_inc_bin', we can see from the visualisation below that those belonging to the '0-25' bin are staying in rented homes. Also, '75-100' have their homes mortgaged."
   ]
  },
  {
   "cell_type": "code",
   "execution_count": 7,
   "id": "215e79ef",
   "metadata": {},
   "outputs": [
    {
     "data": {
      "image/png": "[encoded data removed]",
      "text/plain": [
       "<Figure size 504x360 with 1 Axes>"
      ]
     },
     "metadata": {
      "needs_background": "light"
     },
     "output_type": "display_data"
    }
   ],
   "source": [
    "# Plot countplot\n",
    "plt.figure(figsize=(7,5))\n",
    "sns.countplot(x='home_ownership', data=df, palette='flare', hue='annual_inc_bin', dodge=False)\n",
    "\n",
    "# Visual settings\n",
    "plt.grid(True, axis='both', color='#DAD8D7')\n",
    "plt.gca().set_axisbelow(True)\n",
    "plt.title('Home Ownership grouped by Annual Inc Bin')\n",
    "plt.show()"
   ]
  },
  {
   "cell_type": "markdown",
   "id": "dec88403",
   "metadata": {},
   "source": [
    "Using this insight, we will fill the missing values based on whether or not an individual is in the '0-25' bin. Those in this bin will have their missing values filled as RENT, while the others as MORTGAGE, since it is the most common home ownership value."
   ]
  },
  {
   "cell_type": "code",
   "execution_count": 8,
   "id": "03ebec11",
   "metadata": {},
   "outputs": [],
   "source": [
    "df['home_ownership'] = np.where((df['annual_inc_bin'] == '0-25') & (df['home_ownership'].isnull()), 'RENT', df['home_ownership'])\n",
    "df['home_ownership'] = np.where((df['annual_inc_bin'] != '0-25') & (df['home_ownership'].isnull()), 'MORTGAGE', df['home_ownership'])\n",
    "\n",
    "# Drop temporary column\n",
    "df.drop('annual_inc_bin', axis=1, inplace=True)"
   ]
  },
  {
   "cell_type": "markdown",
   "id": "a380395f",
   "metadata": {},
   "source": [
    "### 3.2.3 Term"
   ]
  },
  {
   "cell_type": "markdown",
   "id": "42e884e0",
   "metadata": {},
   "source": [
    "Term has inconsistant naming for its values, hence we will correct the error."
   ]
  },
  {
   "cell_type": "code",
   "execution_count": 9,
   "id": "292a79a7",
   "metadata": {},
   "outputs": [],
   "source": [
    "# Standardise naming for '36 months' values\n",
    "df['term'] = np.where(df['term'] == ' 36 Months', ' 36 months', df['term'])"
   ]
  },
  {
   "cell_type": "markdown",
   "id": "f342ed52",
   "metadata": {},
   "source": [
    "## 3.3 Feature Engineering"
   ]
  },
  {
   "cell_type": "markdown",
   "id": "e9b2cde6",
   "metadata": {},
   "source": [
    "### 3.3.1 Grade"
   ]
  },
  {
   "cell_type": "markdown",
   "id": "1f77fc86",
   "metadata": {},
   "source": [
    "Since **'Grade'** is an ordinal feature, we will encode it to a numeric datatype for subsequent modelling."
   ]
  },
  {
   "cell_type": "code",
   "execution_count": 10,
   "id": "4dabf2df",
   "metadata": {},
   "outputs": [],
   "source": [
    "# Encode alphabetic grades into numbers\n",
    "df['grade'].replace(['A', 'B', 'C', 'D', 'E', 'F', 'G'], [0, 1, 2, 3, 4, 5, 6], inplace=True)"
   ]
  },
  {
   "cell_type": "markdown",
   "id": "45aff6ea",
   "metadata": {},
   "source": [
    "### 3.3.2 Short Employment and Employment Length"
   ]
  },
  {
   "cell_type": "markdown",
   "id": "7e4ee008",
   "metadata": {},
   "source": [
    "Values from **'short_emp'** are taken directly from **'emp_length_num'** values as **'short_emp'** is a binary feature describing whether an individual has an employment length of more than a year. Hence, we would remove **'short_emp'** as it is already represented.\n",
    "\n",
    "The value 11 in **'emp_length_num'** may not truly be 11 years due to both the maximum value being 11 for the feature and having an extremely large count. It could be that individuals having more than 11 years of experience are grouped under the value 11, hence the absence of values greater than 11 and it having many records.\n",
    "\n",
    "We will drop **'short_emp'** and classify employment length as either having 11 or more, or having less than 11 years of employment (1 = 11 or more, 0 = less than 11)."
   ]
  },
  {
   "cell_type": "code",
   "execution_count": 11,
   "id": "9b196509",
   "metadata": {},
   "outputs": [],
   "source": [
    "# Remove 'short_emp' feature\n",
    "df.drop('short_emp', axis=1, inplace=True)\n",
    "\n",
    "# Rewrite values greater or equal to 11 to '1', the rest to '0'\n",
    "df['emp_length_num'] = np.where(df['emp_length_num'] >= 11, 1, 0)\n",
    "\n",
    "# Rename column\n",
    "df.rename(columns = {'emp_length_num': 'emp_length_11'}, inplace=True)"
   ]
  },
  {
   "cell_type": "markdown",
   "id": "cae175f8",
   "metadata": {},
   "source": [
    "### 3.3.3 Home Ownership"
   ]
  },
  {
   "cell_type": "markdown",
   "id": "6c8b6db3",
   "metadata": {},
   "source": [
    "Home Ownership is a nominal feature, hence we will apply one-hot encoding. We will also drop one of the encoded value to prevent multicollinearity."
   ]
  },
  {
   "cell_type": "code",
   "execution_count": 12,
   "id": "7fad6bcf",
   "metadata": {},
   "outputs": [],
   "source": [
    "# Get dummie features for 'home_ownership', remove the first feature\n",
    "df = pd.get_dummies(df, columns=['home_ownership'], drop_first=True)"
   ]
  },
  {
   "cell_type": "markdown",
   "id": "4b56aa2c",
   "metadata": {},
   "source": [
    "### 3.3.4 Purpose"
   ]
  },
  {
   "cell_type": "markdown",
   "id": "1ba0b25a",
   "metadata": {},
   "source": [
    "Similar to Home Ownership, Purpose is also a nominal feature. We will apply the same methods used previously."
   ]
  },
  {
   "cell_type": "code",
   "execution_count": 13,
   "id": "66f22152",
   "metadata": {},
   "outputs": [],
   "source": [
    "# Get dummie features for 'purpose', remove the first feature\n",
    "df = pd.get_dummies(df, columns=['purpose'], drop_first=True)"
   ]
  },
  {
   "cell_type": "markdown",
   "id": "f8778dfa",
   "metadata": {},
   "source": [
    "### 3.3.5 Term"
   ]
  },
  {
   "cell_type": "markdown",
   "id": "57c73962",
   "metadata": {},
   "source": [
    "Term also being a nominal feature would require the same methods used previously."
   ]
  },
  {
   "cell_type": "code",
   "execution_count": 14,
   "id": "19134fea",
   "metadata": {},
   "outputs": [],
   "source": [
    "# Get dummie features for 'term', remove the first feature\n",
    "df = pd.get_dummies(df, columns=['term'], drop_first=True)\n",
    "\n",
    "# Rename column\n",
    "df.rename(columns = {'term_ 60 months': 'term_60 months'}, inplace=True)"
   ]
  },
  {
   "cell_type": "markdown",
   "id": "f176a010",
   "metadata": {},
   "source": [
    "## 3.4 Data Transformation"
   ]
  },
  {
   "cell_type": "markdown",
   "id": "d57acfdf",
   "metadata": {},
   "source": [
    "### 3.4.1 Normalisation"
   ]
  },
  {
   "cell_type": "markdown",
   "id": "f38a0069",
   "metadata": {},
   "source": [
    "We will normalise numerical columns (continuous values) using z-score normalisation to prevent features with larger ranges from affecting subsequent modelling."
   ]
  },
  {
   "cell_type": "code",
   "execution_count": 15,
   "id": "afb340ae",
   "metadata": {},
   "outputs": [
    {
     "data": {
      "text/html": [
       "<div>\n",
       "<style scoped>\n",
       "    .dataframe tbody tr th:only-of-type {\n",
       "        vertical-align: middle;\n",
       "    }\n",
       "\n",
       "    .dataframe tbody tr th {\n",
       "        vertical-align: top;\n",
       "    }\n",
       "\n",
       "    .dataframe thead th {\n",
       "        text-align: right;\n",
       "    }\n",
       "</style>\n",
       "<table border=\"1\" class=\"dataframe\">\n",
       "  <thead>\n",
       "    <tr style=\"text-align: right;\">\n",
       "      <th></th>\n",
       "      <th>grade</th>\n",
       "      <th>emp_length_11</th>\n",
       "      <th>last_delinq_none</th>\n",
       "      <th>total_rec_late_fee</th>\n",
       "      <th>bad_loan</th>\n",
       "      <th>home_ownership_OWN</th>\n",
       "      <th>home_ownership_RENT</th>\n",
       "      <th>purpose_credit_card</th>\n",
       "      <th>purpose_debt_consolidation</th>\n",
       "      <th>purpose_home_improvement</th>\n",
       "      <th>...</th>\n",
       "      <th>purpose_moving</th>\n",
       "      <th>purpose_other</th>\n",
       "      <th>purpose_small_business</th>\n",
       "      <th>purpose_vacation</th>\n",
       "      <th>purpose_wedding</th>\n",
       "      <th>term_60 months</th>\n",
       "      <th>dti</th>\n",
       "      <th>revol_util</th>\n",
       "      <th>annual_inc</th>\n",
       "      <th>od_ratio</th>\n",
       "    </tr>\n",
       "  </thead>\n",
       "  <tbody>\n",
       "    <tr>\n",
       "      <th>0</th>\n",
       "      <td>0</td>\n",
       "      <td>0</td>\n",
       "      <td>1</td>\n",
       "      <td>0.0</td>\n",
       "      <td>0</td>\n",
       "      <td>0</td>\n",
       "      <td>1</td>\n",
       "      <td>1</td>\n",
       "      <td>0</td>\n",
       "      <td>0</td>\n",
       "      <td>...</td>\n",
       "      <td>0</td>\n",
       "      <td>0</td>\n",
       "      <td>0</td>\n",
       "      <td>0</td>\n",
       "      <td>0</td>\n",
       "      <td>0</td>\n",
       "      <td>1.281286</td>\n",
       "      <td>-0.302926</td>\n",
       "      <td>0.589645</td>\n",
       "      <td>-1.194963</td>\n",
       "    </tr>\n",
       "    <tr>\n",
       "      <th>1</th>\n",
       "      <td>0</td>\n",
       "      <td>0</td>\n",
       "      <td>0</td>\n",
       "      <td>0.0</td>\n",
       "      <td>0</td>\n",
       "      <td>1</td>\n",
       "      <td>0</td>\n",
       "      <td>1</td>\n",
       "      <td>0</td>\n",
       "      <td>0</td>\n",
       "      <td>...</td>\n",
       "      <td>0</td>\n",
       "      <td>0</td>\n",
       "      <td>0</td>\n",
       "      <td>0</td>\n",
       "      <td>0</td>\n",
       "      <td>0</td>\n",
       "      <td>-1.481386</td>\n",
       "      <td>-0.818165</td>\n",
       "      <td>0.213517</td>\n",
       "      <td>1.064764</td>\n",
       "    </tr>\n",
       "    <tr>\n",
       "      <th>2</th>\n",
       "      <td>3</td>\n",
       "      <td>1</td>\n",
       "      <td>1</td>\n",
       "      <td>0.0</td>\n",
       "      <td>1</td>\n",
       "      <td>0</td>\n",
       "      <td>0</td>\n",
       "      <td>0</td>\n",
       "      <td>1</td>\n",
       "      <td>0</td>\n",
       "      <td>...</td>\n",
       "      <td>0</td>\n",
       "      <td>0</td>\n",
       "      <td>0</td>\n",
       "      <td>0</td>\n",
       "      <td>0</td>\n",
       "      <td>1</td>\n",
       "      <td>0.246607</td>\n",
       "      <td>-0.229320</td>\n",
       "      <td>0.102891</td>\n",
       "      <td>-1.631081</td>\n",
       "    </tr>\n",
       "    <tr>\n",
       "      <th>3</th>\n",
       "      <td>3</td>\n",
       "      <td>0</td>\n",
       "      <td>0</td>\n",
       "      <td>0.0</td>\n",
       "      <td>1</td>\n",
       "      <td>0</td>\n",
       "      <td>0</td>\n",
       "      <td>0</td>\n",
       "      <td>0</td>\n",
       "      <td>0</td>\n",
       "      <td>...</td>\n",
       "      <td>0</td>\n",
       "      <td>0</td>\n",
       "      <td>0</td>\n",
       "      <td>0</td>\n",
       "      <td>0</td>\n",
       "      <td>1</td>\n",
       "      <td>-0.569757</td>\n",
       "      <td>-1.074597</td>\n",
       "      <td>-0.792381</td>\n",
       "      <td>0.105857</td>\n",
       "    </tr>\n",
       "    <tr>\n",
       "      <th>4</th>\n",
       "      <td>3</td>\n",
       "      <td>1</td>\n",
       "      <td>0</td>\n",
       "      <td>0.0</td>\n",
       "      <td>0</td>\n",
       "      <td>0</td>\n",
       "      <td>0</td>\n",
       "      <td>0</td>\n",
       "      <td>1</td>\n",
       "      <td>0</td>\n",
       "      <td>...</td>\n",
       "      <td>0</td>\n",
       "      <td>0</td>\n",
       "      <td>0</td>\n",
       "      <td>0</td>\n",
       "      <td>0</td>\n",
       "      <td>0</td>\n",
       "      <td>-0.704716</td>\n",
       "      <td>-0.967750</td>\n",
       "      <td>-0.184736</td>\n",
       "      <td>-1.174539</td>\n",
       "    </tr>\n",
       "  </tbody>\n",
       "</table>\n",
       "<p>5 rows × 23 columns</p>\n",
       "</div>"
      ],
      "text/plain": [
       "   grade  emp_length_11  last_delinq_none  total_rec_late_fee  bad_loan  \\\n",
       "0      0              0                 1                 0.0         0   \n",
       "1      0              0                 0                 0.0         0   \n",
       "2      3              1                 1                 0.0         1   \n",
       "3      3              0                 0                 0.0         1   \n",
       "4      3              1                 0                 0.0         0   \n",
       "\n",
       "   home_ownership_OWN  home_ownership_RENT  purpose_credit_card  \\\n",
       "0                   0                    1                    1   \n",
       "1                   1                    0                    1   \n",
       "2                   0                    0                    0   \n",
       "3                   0                    0                    0   \n",
       "4                   0                    0                    0   \n",
       "\n",
       "   purpose_debt_consolidation  purpose_home_improvement  ...  purpose_moving  \\\n",
       "0                           0                         0  ...               0   \n",
       "1                           0                         0  ...               0   \n",
       "2                           1                         0  ...               0   \n",
       "3                           0                         0  ...               0   \n",
       "4                           1                         0  ...               0   \n",
       "\n",
       "   purpose_other  purpose_small_business  purpose_vacation  purpose_wedding  \\\n",
       "0              0                       0                 0                0   \n",
       "1              0                       0                 0                0   \n",
       "2              0                       0                 0                0   \n",
       "3              0                       0                 0                0   \n",
       "4              0                       0                 0                0   \n",
       "\n",
       "   term_60 months       dti  revol_util  annual_inc  od_ratio  \n",
       "0               0  1.281286   -0.302926    0.589645 -1.194963  \n",
       "1               0 -1.481386   -0.818165    0.213517  1.064764  \n",
       "2               1  0.246607   -0.229320    0.102891 -1.631081  \n",
       "3               1 -0.569757   -1.074597   -0.792381  0.105857  \n",
       "4               0 -0.704716   -0.967750   -0.184736 -1.174539  \n",
       "\n",
       "[5 rows x 23 columns]"
      ]
     },
     "metadata": {},
     "output_type": "display_data"
    },
    {
     "name": "stdout",
     "output_type": "stream",
     "text": [
      "<class 'pandas.core.frame.DataFrame'>\n",
      "RangeIndex: 20000 entries, 0 to 19999\n",
      "Data columns (total 23 columns):\n",
      " #   Column                      Non-Null Count  Dtype  \n",
      "---  ------                      --------------  -----  \n",
      " 0   grade                       20000 non-null  int64  \n",
      " 1   annual_inc                  20000 non-null  float64\n",
      " 2   emp_length_11               20000 non-null  int32  \n",
      " 3   dti                         20000 non-null  float64\n",
      " 4   last_delinq_none            20000 non-null  int64  \n",
      " 5   revol_util                  20000 non-null  float64\n",
      " 6   total_rec_late_fee          20000 non-null  float64\n",
      " 7   od_ratio                    20000 non-null  float64\n",
      " 8   bad_loan                    20000 non-null  int64  \n",
      " 9   home_ownership_OWN          20000 non-null  uint8  \n",
      " 10  home_ownership_RENT         20000 non-null  uint8  \n",
      " 11  purpose_credit_card         20000 non-null  uint8  \n",
      " 12  purpose_debt_consolidation  20000 non-null  uint8  \n",
      " 13  purpose_home_improvement    20000 non-null  uint8  \n",
      " 14  purpose_house               20000 non-null  uint8  \n",
      " 15  purpose_major_purchase      20000 non-null  uint8  \n",
      " 16  purpose_medical             20000 non-null  uint8  \n",
      " 17  purpose_moving              20000 non-null  uint8  \n",
      " 18  purpose_other               20000 non-null  uint8  \n",
      " 19  purpose_small_business      20000 non-null  uint8  \n",
      " 20  purpose_vacation            20000 non-null  uint8  \n",
      " 21  purpose_wedding             20000 non-null  uint8  \n",
      " 22  term_60 months              20000 non-null  uint8  \n",
      "dtypes: float64(5), int32(1), int64(3), uint8(14)\n",
      "memory usage: 1.6 MB\n"
     ]
    },
    {
     "data": {
      "text/plain": [
       "None"
      ]
     },
     "metadata": {},
     "output_type": "display_data"
    }
   ],
   "source": [
    "# Define standard scaler\n",
    "scaler = StandardScaler()\n",
    "\n",
    "# Transform numerical features\n",
    "df_scaled = pd.DataFrame(scaler.fit_transform(df[{'annual_inc', 'dti', 'revol_util', 'od_ratio'}]), \n",
    "                        columns=df[{'annual_inc', 'dti', 'revol_util', 'od_ratio'}].columns)\n",
    "\n",
    "# Replace old features with transformed features\n",
    "df_trfm = pd.concat([df.drop({'annual_inc', 'dti', 'revol_util', 'od_ratio'}, axis=1), df_scaled], axis=1)\n",
    "\n",
    "# Print transformed dataframe and info\n",
    "display(df_trfm.head())\n",
    "display(df.info())"
   ]
  },
  {
   "cell_type": "markdown",
   "id": "b6d3ef6f",
   "metadata": {},
   "source": [
    "# 4.0 Modeling"
   ]
  },
  {
   "cell_type": "markdown",
   "id": "a0ec6dad",
   "metadata": {},
   "source": [
    "## 4.1 Train-test Split"
   ]
  },
  {
   "cell_type": "markdown",
   "id": "a4b5be37",
   "metadata": {},
   "source": [
    "We will split the data, allocating 70% for training and 30% for testing. We will also stratify the split to ensure both training and testing datasets retain the same class distribution (4:1) for our target variable."
   ]
  },
  {
   "cell_type": "code",
   "execution_count": 16,
   "id": "629689da",
   "metadata": {},
   "outputs": [],
   "source": [
    "# Load feature and target variables\n",
    "X = df_trfm.drop('bad_loan', axis=1)\n",
    "y = df_trfm['bad_loan']\n",
    "\n",
    "# Split data into training and test: 70% train, stratified split on target variable\n",
    "X_train, X_test, y_train, y_test = train_test_split(X, y, test_size=0.3, random_state=42, stratify=y)"
   ]
  },
  {
   "cell_type": "markdown",
   "id": "94279f1a",
   "metadata": {},
   "source": [
    "## 4.2 Model Building"
   ]
  },
  {
   "cell_type": "markdown",
   "id": "88743ade",
   "metadata": {},
   "source": [
    "We will use several algorithms to determine which works best with our dataset. We start of by modeling each algorithm to our training dataset using cross validation of 10 folds, followed by scoring each model using accuracy, f1 score, and AUC."
   ]
  },
  {
   "cell_type": "code",
   "execution_count": 17,
   "id": "a90fee98",
   "metadata": {},
   "outputs": [],
   "source": [
    "# Initialise a list of algorithms to be evaluated\n",
    "algorithms = {\n",
    "    'Logistic Regression': LogisticRegression(max_iter=1000),\n",
    "    'Support Vector Machine': SVC(probability=True),\n",
    "    'K-Nearest Neighbors': KNeighborsClassifier(),\n",
    "    'Decision Trees': DecisionTreeClassifier(),\n",
    "    'Random Forest': RandomForestClassifier(),\n",
    "    'Gradient Boosting': GradientBoostingClassifier(),\n",
    "    'Extreme GB': XGBClassifier()\n",
    "}\n",
    "\n",
    "# Initialise table to store results\n",
    "results = pd.DataFrame(columns=[\"Algorithm\", \"Accuracy (%)\", \"F1 Score (%)\", \"AUC\"])\n",
    "\n",
    "# Model building\n",
    "for name, algorithm in algorithms.items():\n",
    "    # Model evaluation using cross validation (10-folds)\n",
    "    scores = cross_validate(algorithm, X_train, y_train, cv=10, scoring=[\"accuracy\", \"f1\", \"roc_auc\"])\n",
    "    # Store results into results table\n",
    "    results = results.append({\"Algorithm\": name, \n",
    "                              \"Accuracy (%)\": scores[\"test_accuracy\"].mean(), \n",
    "                              \"F1 Score (%)\": scores[\"test_f1\"].mean(), \n",
    "                              \"AUC\": scores[\"test_roc_auc\"].mean()}, ignore_index=True)"
   ]
  },
  {
   "cell_type": "markdown",
   "id": "c4d49221",
   "metadata": {},
   "source": [
    "## 4.3 Model Evaluation"
   ]
  },
  {
   "cell_type": "markdown",
   "id": "db9c5219",
   "metadata": {},
   "source": [
    "### 4.3.1 Confusion Matrix Scores"
   ]
  },
  {
   "cell_type": "code",
   "execution_count": 18,
   "id": "2fe15833",
   "metadata": {},
   "outputs": [
    {
     "data": {
      "text/html": [
       "<div>\n",
       "<style scoped>\n",
       "    .dataframe tbody tr th:only-of-type {\n",
       "        vertical-align: middle;\n",
       "    }\n",
       "\n",
       "    .dataframe tbody tr th {\n",
       "        vertical-align: top;\n",
       "    }\n",
       "\n",
       "    .dataframe thead th {\n",
       "        text-align: right;\n",
       "    }\n",
       "</style>\n",
       "<table border=\"1\" class=\"dataframe\">\n",
       "  <thead>\n",
       "    <tr style=\"text-align: right;\">\n",
       "      <th></th>\n",
       "      <th>Algorithm</th>\n",
       "      <th>Accuracy (%)</th>\n",
       "      <th>F1 Score (%)</th>\n",
       "      <th>AUC</th>\n",
       "      <th>Average</th>\n",
       "    </tr>\n",
       "  </thead>\n",
       "  <tbody>\n",
       "    <tr>\n",
       "      <th>0</th>\n",
       "      <td>Logistic Regression</td>\n",
       "      <td>0.804643</td>\n",
       "      <td>0.134566</td>\n",
       "      <td>0.704241</td>\n",
       "      <td>0.547817</td>\n",
       "    </tr>\n",
       "    <tr>\n",
       "      <th>1</th>\n",
       "      <td>Support Vector Machine</td>\n",
       "      <td>0.804643</td>\n",
       "      <td>0.068032</td>\n",
       "      <td>0.610247</td>\n",
       "      <td>0.494307</td>\n",
       "    </tr>\n",
       "    <tr>\n",
       "      <th>2</th>\n",
       "      <td>K-Nearest Neighbors</td>\n",
       "      <td>0.777857</td>\n",
       "      <td>0.235181</td>\n",
       "      <td>0.614127</td>\n",
       "      <td>0.542388</td>\n",
       "    </tr>\n",
       "    <tr>\n",
       "      <th>3</th>\n",
       "      <td>Decision Trees</td>\n",
       "      <td>0.700571</td>\n",
       "      <td>0.279095</td>\n",
       "      <td>0.546875</td>\n",
       "      <td>0.508847</td>\n",
       "    </tr>\n",
       "    <tr>\n",
       "      <th>4</th>\n",
       "      <td>Random Forest</td>\n",
       "      <td>0.799286</td>\n",
       "      <td>0.154124</td>\n",
       "      <td>0.670313</td>\n",
       "      <td>0.541241</td>\n",
       "    </tr>\n",
       "    <tr>\n",
       "      <th>5</th>\n",
       "      <td>Gradient Boosting</td>\n",
       "      <td>0.804143</td>\n",
       "      <td>0.135432</td>\n",
       "      <td>0.704878</td>\n",
       "      <td>0.548151</td>\n",
       "    </tr>\n",
       "    <tr>\n",
       "      <th>6</th>\n",
       "      <td>Extreme GB</td>\n",
       "      <td>0.791857</td>\n",
       "      <td>0.184118</td>\n",
       "      <td>0.665693</td>\n",
       "      <td>0.547223</td>\n",
       "    </tr>\n",
       "  </tbody>\n",
       "</table>\n",
       "</div>"
      ],
      "text/plain": [
       "                Algorithm  Accuracy (%)  F1 Score (%)       AUC   Average\n",
       "0     Logistic Regression      0.804643      0.134566  0.704241  0.547817\n",
       "1  Support Vector Machine      0.804643      0.068032  0.610247  0.494307\n",
       "2     K-Nearest Neighbors      0.777857      0.235181  0.614127  0.542388\n",
       "3          Decision Trees      0.700571      0.279095  0.546875  0.508847\n",
       "4           Random Forest      0.799286      0.154124  0.670313  0.541241\n",
       "5       Gradient Boosting      0.804143      0.135432  0.704878  0.548151\n",
       "6              Extreme GB      0.791857      0.184118  0.665693  0.547223"
      ]
     },
     "metadata": {},
     "output_type": "display_data"
    },
    {
     "data": {
      "image/png": "[encoded data removed]",
      "text/plain": [
       "<Figure size 720x504 with 1 Axes>"
      ]
     },
     "metadata": {
      "needs_background": "light"
     },
     "output_type": "display_data"
    }
   ],
   "source": [
    "# Calculate average value and display table\n",
    "results['Average'] = results[['Accuracy (%)', 'F1 Score (%)', 'AUC']].mean(axis=1)\n",
    "display(results)\n",
    "\n",
    "# Reshape data\n",
    "results_long = pd.melt(results, id_vars='Algorithm', value_vars=['Accuracy (%)', 'F1 Score (%)', 'AUC'], value_name='Value')\n",
    "results_long = results_long.rename(columns={'variable': 'Metric'})\n",
    "\n",
    "# Plot barplot\n",
    "plt.figure(figsize=(10,7))\n",
    "sns.barplot(x='Algorithm', y='Value', hue='Metric', data=results_long)\n",
    "\n",
    "# Visual settings\n",
    "plt.ylim(0,1)\n",
    "plt.xticks(rotation=25)\n",
    "plt.grid(True, axis='both', color='#DAD8D7')\n",
    "plt.gca().set_axisbelow(True)\n",
    "plt.title('Model Results')\n",
    "plt.tight_layout()\n",
    "plt.show()"
   ]
  },
  {
   "cell_type": "markdown",
   "id": "6eec336f",
   "metadata": {},
   "source": [
    "The results show Logistic Regression and Support Vector Machine performing the best for accuracy (80.5%), Decision Trees for F1 Score (28.0%), and Gradient Boosting for Area Under Curve (70.5%). Overall, Extreme GB performed the best if we were to take the average values of the three metrics. However, since there is a huge class imbalance for our target variable, we will look at other evaluation metrics to find the best algorithm."
   ]
  },
  {
   "cell_type": "markdown",
   "id": "859cb404",
   "metadata": {},
   "source": [
    "### 4.3.2 Receiver Operating Characteristic Curve"
   ]
  },
  {
   "cell_type": "code",
   "execution_count": 19,
   "id": "9d8475ef",
   "metadata": {},
   "outputs": [
    {
     "data": {
      "text/html": [
       "<div>\n",
       "<style scoped>\n",
       "    .dataframe tbody tr th:only-of-type {\n",
       "        vertical-align: middle;\n",
       "    }\n",
       "\n",
       "    .dataframe tbody tr th {\n",
       "        vertical-align: top;\n",
       "    }\n",
       "\n",
       "    .dataframe thead th {\n",
       "        text-align: right;\n",
       "    }\n",
       "</style>\n",
       "<table border=\"1\" class=\"dataframe\">\n",
       "  <thead>\n",
       "    <tr style=\"text-align: right;\">\n",
       "      <th></th>\n",
       "      <th>Algorithm</th>\n",
       "      <th>AUC</th>\n",
       "    </tr>\n",
       "  </thead>\n",
       "  <tbody>\n",
       "    <tr>\n",
       "      <th>5</th>\n",
       "      <td>Gradient Boosting</td>\n",
       "      <td>0.704878</td>\n",
       "    </tr>\n",
       "    <tr>\n",
       "      <th>0</th>\n",
       "      <td>Logistic Regression</td>\n",
       "      <td>0.704241</td>\n",
       "    </tr>\n",
       "    <tr>\n",
       "      <th>4</th>\n",
       "      <td>Random Forest</td>\n",
       "      <td>0.670313</td>\n",
       "    </tr>\n",
       "    <tr>\n",
       "      <th>6</th>\n",
       "      <td>Extreme GB</td>\n",
       "      <td>0.665693</td>\n",
       "    </tr>\n",
       "    <tr>\n",
       "      <th>2</th>\n",
       "      <td>K-Nearest Neighbors</td>\n",
       "      <td>0.614127</td>\n",
       "    </tr>\n",
       "    <tr>\n",
       "      <th>1</th>\n",
       "      <td>Support Vector Machine</td>\n",
       "      <td>0.610247</td>\n",
       "    </tr>\n",
       "    <tr>\n",
       "      <th>3</th>\n",
       "      <td>Decision Trees</td>\n",
       "      <td>0.546875</td>\n",
       "    </tr>\n",
       "  </tbody>\n",
       "</table>\n",
       "</div>"
      ],
      "text/plain": [
       "                Algorithm       AUC\n",
       "5       Gradient Boosting  0.704878\n",
       "0     Logistic Regression  0.704241\n",
       "4           Random Forest  0.670313\n",
       "6              Extreme GB  0.665693\n",
       "2     K-Nearest Neighbors  0.614127\n",
       "1  Support Vector Machine  0.610247\n",
       "3          Decision Trees  0.546875"
      ]
     },
     "metadata": {},
     "output_type": "display_data"
    },
    {
     "data": {
      "image/png": "[encoded data removed]",
      "text/plain": [
       "<Figure size 504x360 with 1 Axes>"
      ]
     },
     "metadata": {
      "needs_background": "light"
     },
     "output_type": "display_data"
    }
   ],
   "source": [
    "# Display AUC values\n",
    "display(results[['Algorithm','AUC']].sort_values(by='AUC', ascending=False))\n",
    "\n",
    "# Create plot\n",
    "plt.figure(figsize=(7,5))\n",
    "\n",
    "# Loop through each algorithm\n",
    "for name, algorithm in algorithms.items():\n",
    "    # Calculate predicted probability\n",
    "    y_pred_proba = algorithm.fit(X_train, y_train).predict_proba(X_test)[:,1]\n",
    "    # Calculate false and true positive rate\n",
    "    fpr, tpr, _ = roc_curve(y_test,  y_pred_proba)\n",
    "    # Plot values\n",
    "    plt.plot(fpr, tpr, label=name)\n",
    "\n",
    "# Visual settings\n",
    "plt.title('Receiver Operating Characteristic Curve')\n",
    "plt.plot([0, 1], [0, 1],'--')\n",
    "plt.ylabel('True Positive Rate')\n",
    "plt.xlabel('False Positive Rate')\n",
    "plt.legend(loc=4)\n",
    "plt.show()"
   ]
  },
  {
   "cell_type": "markdown",
   "id": "8761b6b0",
   "metadata": {},
   "source": [
    "Gradient boosting performs the best when using Area-Under-Curve (AUC) to score. It is worth noting that the AUC for Gradient boosting and Linear Regression are almost identical to Gradient Boosting, differing by a small amount.\n",
    "\n",
    "From the Receiver Operating Characteristic (ROC) visual, we can see how well each algorithm has performed at various threshold settings, with the best having an ROC curve plotted closer to the top left corner. Gradient boosting and Linear Regression can be seen performing the best and overlapping each other on the visual, hence explaining their similar AUC values."
   ]
  },
  {
   "cell_type": "markdown",
   "id": "cdade0a0",
   "metadata": {},
   "source": [
    "### 4.3.3 Matthews Correlation Coefficient"
   ]
  },
  {
   "cell_type": "code",
   "execution_count": 20,
   "id": "4093d7be",
   "metadata": {},
   "outputs": [
    {
     "data": {
      "text/html": [
       "<div>\n",
       "<style scoped>\n",
       "    .dataframe tbody tr th:only-of-type {\n",
       "        vertical-align: middle;\n",
       "    }\n",
       "\n",
       "    .dataframe tbody tr th {\n",
       "        vertical-align: top;\n",
       "    }\n",
       "\n",
       "    .dataframe thead th {\n",
       "        text-align: right;\n",
       "    }\n",
       "</style>\n",
       "<table border=\"1\" class=\"dataframe\">\n",
       "  <thead>\n",
       "    <tr style=\"text-align: right;\">\n",
       "      <th></th>\n",
       "      <th>Algorithm</th>\n",
       "      <th>Matt Coeff</th>\n",
       "    </tr>\n",
       "  </thead>\n",
       "  <tbody>\n",
       "    <tr>\n",
       "      <th>5</th>\n",
       "      <td>Gradient Boosting</td>\n",
       "      <td>0.177060</td>\n",
       "    </tr>\n",
       "    <tr>\n",
       "      <th>0</th>\n",
       "      <td>Logistic Regression</td>\n",
       "      <td>0.176599</td>\n",
       "    </tr>\n",
       "    <tr>\n",
       "      <th>4</th>\n",
       "      <td>Random Forest</td>\n",
       "      <td>0.169894</td>\n",
       "    </tr>\n",
       "    <tr>\n",
       "      <th>6</th>\n",
       "      <td>Extreme GB</td>\n",
       "      <td>0.164424</td>\n",
       "    </tr>\n",
       "    <tr>\n",
       "      <th>2</th>\n",
       "      <td>K-Nearest Neighbors</td>\n",
       "      <td>0.151060</td>\n",
       "    </tr>\n",
       "    <tr>\n",
       "      <th>1</th>\n",
       "      <td>Support Vector Machine</td>\n",
       "      <td>0.131029</td>\n",
       "    </tr>\n",
       "    <tr>\n",
       "      <th>3</th>\n",
       "      <td>Decision Trees</td>\n",
       "      <td>0.086209</td>\n",
       "    </tr>\n",
       "  </tbody>\n",
       "</table>\n",
       "</div>"
      ],
      "text/plain": [
       "                Algorithm  Matt Coeff\n",
       "5       Gradient Boosting    0.177060\n",
       "0     Logistic Regression    0.176599\n",
       "4           Random Forest    0.169894\n",
       "6              Extreme GB    0.164424\n",
       "2     K-Nearest Neighbors    0.151060\n",
       "1  Support Vector Machine    0.131029\n",
       "3          Decision Trees    0.086209"
      ]
     },
     "execution_count": 20,
     "metadata": {},
     "output_type": "execute_result"
    }
   ],
   "source": [
    "# Initialise table\n",
    "matt_coeff = pd.DataFrame(columns=[\"Algorithm\", \"Matt Coeff\"])\n",
    "\n",
    "# Loop through each algorithm\n",
    "for name, algorithm in algorithms.items():\n",
    "    # Train a model\n",
    "    model = algorithm.fit(X_train, y_train)\n",
    "    # Store the model's predictions\n",
    "    y_pred = model.predict(X_test)\n",
    "    # Measure MCC and store into table\n",
    "    matt_coeff_value = matthews_corrcoef(y_test, y_pred)\n",
    "    matt_coeff = matt_coeff.append({\"Algorithm\": name, \n",
    "                                    \"Matt Coeff\": matt_coeff_value}, ignore_index=True)\n",
    "    \n",
    "# Display table, descending MCC\n",
    "matt_coeff.sort_values(by='Matt Coeff', ascending=False)"
   ]
  },
  {
   "cell_type": "markdown",
   "id": "b4b21575",
   "metadata": {},
   "source": [
    "Using Matthews Correlation Coefficient (MCC), we can derive that Gradient Boosting performs the best. Since MCC is considered a better evaluation metric than ROC or F1 scores in imbalanced binary classification datasets, we will conclude that Gradient Boosting is the best algorithm for our dataset."
   ]
  },
  {
   "cell_type": "markdown",
   "id": "cef2680a",
   "metadata": {},
   "source": [
    "## 4.4 Model Tuning"
   ]
  },
  {
   "cell_type": "markdown",
   "id": "b27a8316",
   "metadata": {},
   "source": [
    "We will use a dictonary of hyperparemeters and their possible values to retrieve the best hyperparemeters found by the grid search for the Gradient Boosting algorithm."
   ]
  },
  {
   "cell_type": "code",
   "execution_count": 21,
   "id": "58c2d708",
   "metadata": {},
   "outputs": [
    {
     "name": "stdout",
     "output_type": "stream",
     "text": [
      "Best hyperparameters: {'learning_rate': 0.005, 'min_samples_leaf': 50, 'n_estimators': 750}\n"
     ]
    }
   ],
   "source": [
    "# Initialise algorithm\n",
    "gb = GradientBoostingClassifier()\n",
    "\n",
    "# Define hyperparameters and their possible values\n",
    "parameters = {\n",
    "    \"learning_rate\": [0.01, 0.005, 0.001],\n",
    "    \"n_estimators\": [500, 750, 1000],\n",
    "    \"min_samples_leaf\": [25, 50, 100]\n",
    "}\n",
    "\n",
    "# Initialise and train GridSearchCV model\n",
    "gb_clf = GridSearchCV(gb, parameters, cv=10)\n",
    "gb_clf.fit(X_train, y_train)\n",
    "\n",
    "# Print best hyperparameters found by GridSearchCV\n",
    "print(\"Best hyperparameters:\", gb_clf.best_params_)"
   ]
  },
  {
   "cell_type": "markdown",
   "id": "505d7d38",
   "metadata": {},
   "source": [
    "## 4.5 Evaluation"
   ]
  },
  {
   "cell_type": "markdown",
   "id": "fe77c786",
   "metadata": {},
   "source": [
    "**Confusion Matrix**"
   ]
  },
  {
   "cell_type": "code",
   "execution_count": 22,
   "id": "e2e0f704",
   "metadata": {},
   "outputs": [
    {
     "data": {
      "image/png": "[encoded data removed]",
      "text/plain": [
       "<Figure size 432x288 with 2 Axes>"
      ]
     },
     "metadata": {
      "needs_background": "light"
     },
     "output_type": "display_data"
    }
   ],
   "source": [
    "# Plot confusion matrix\n",
    "plot_confusion_matrix(gb_clf, X_test, y_test, values_format=\".4g\", cmap=\"Blues\");"
   ]
  },
  {
   "cell_type": "markdown",
   "id": "7e0336ce",
   "metadata": {},
   "source": [
    "**Classification Report**"
   ]
  },
  {
   "cell_type": "code",
   "execution_count": 23,
   "id": "6c816961",
   "metadata": {},
   "outputs": [
    {
     "name": "stdout",
     "output_type": "stream",
     "text": [
      "              precision    recall  f1-score   support\n",
      "\n",
      "           0       0.81      0.99      0.89      4800\n",
      "           1       0.69      0.05      0.09      1200\n",
      "\n",
      "    accuracy                           0.81      6000\n",
      "   macro avg       0.75      0.52      0.49      6000\n",
      "weighted avg       0.78      0.81      0.73      6000\n",
      "\n"
     ]
    }
   ],
   "source": [
    "# Test model and print results\n",
    "y_pred = gb_clf.predict(X_test)\n",
    "print(classification_report(y_test, y_pred))"
   ]
  },
  {
   "cell_type": "markdown",
   "id": "f4c92c9a",
   "metadata": {},
   "source": [
    "**Results:**\n",
    "- True Positive (TP): 4774 - Model correctly identified 4774 non-defaulters.\n",
    "\n",
    "\n",
    "- True Negative (TN): 58 - Model correctly identified 58 defaulters.\n",
    "\n",
    "\n",
    "- False Positive (FP): 1142 - Model incorrectly identified 1142 defaulters as non-defaulters.\n",
    "\n",
    "\n",
    "- False Negative (FN): 26 - Model incorrectly identified 26 non-defaulters as defaulters.\n",
    "\n",
    "**Class 0 (Non-defaulters):**\n",
    "- Precision: 0.81 - 81% of non-defaulters were indeed non-defaulters.\n",
    "\n",
    "\n",
    "- Recall: 0.99 - 99% of non-defaulter were identified.\n",
    "\n",
    "**Class 1 (Defaulters):**\n",
    "- Precision: 0.69 - 69% of defaulters were indeed defaulters.\n",
    "\n",
    "\n",
    "- Recall: 0.05 - 5% of defaulters were identified.\n",
    "\n",
    "**Model performs well when identifying individuals who are non-defaulters, but performs poorly when identifying defaulters.**"
   ]
  }
 ],
 "metadata": {
  "kernelspec": {
   "display_name": "Python 3",
   "language": "python",
   "name": "python3"
  },
  "language_info": {
   "codemirror_mode": {
    "name": "ipython",
    "version": 3
   },
   "file_extension": ".py",
   "mimetype": "text/x-python",
   "name": "python",
   "nbconvert_exporter": "python",
   "pygments_lexer": "ipython3",
   "version": "3.8.8"
  }
 },
 "nbformat": 4,
 "nbformat_minor": 5
}
