{
 "cells": [
  {
   "cell_type": "markdown",
   "id": "f1a5bf1e",
   "metadata": {},
   "source": [
    "## Weather Forecasting"
   ]
  },
  {
   "cell_type": "code",
   "execution_count": 1,
   "id": "f617461e",
   "metadata": {},
   "outputs": [
    {
     "name": "stdout",
     "output_type": "stream",
     "text": [
      "Hello World\n"
     ]
    }
   ],
   "source": [
    "print('Hello World')"
   ]
  },
  {
   "cell_type": "code",
   "execution_count": 1,
   "id": "ba710fcc",
   "metadata": {},
   "outputs": [
    {
     "name": "stdout",
     "output_type": "stream",
     "text": [
      "Push from Sentosa folder\n"
     ]
    }
   ],
   "source": [
    "print('Push from Sentosa folder')"
   ]
  },
  {
   "cell_type": "code",
   "execution_count": 2,
   "id": "d1ae0d25",
   "metadata": {},
   "outputs": [
    {
     "name": "stdout",
     "output_type": "stream",
     "text": [
      ".bat from desktop\n"
     ]
    }
   ],
   "source": [
    "print('.bat from desktop')"
   ]
  },
  {
   "cell_type": "code",
   "execution_count": null,
   "id": "db726705",
   "metadata": {},
   "outputs": [],
   "source": []
  }
 ],
 "metadata": {
  "kernelspec": {
   "display_name": "Python 3",
   "language": "python",
   "name": "python3"
  },
  "language_info": {
   "codemirror_mode": {
    "name": "ipython",
    "version": 3
   },
   "file_extension": ".py",
   "mimetype": "text/x-python",
   "name": "python",
   "nbconvert_exporter": "python",
   "pygments_lexer": "ipython3",
   "version": "3.8.8"
  }
 },
 "nbformat": 4,
 "nbformat_minor": 5
}
